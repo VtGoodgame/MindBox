{
  "nbformat": 4,
  "nbformat_minor": 0,
  "metadata": {
    "colab": {
      "name": "pyspark_example.ipynb",
      "provenance": []
    },
    "kernelspec": {
      "display_name": "Python 3",
      "language": "python",
      "name": "python3"
    },
    "language_info": {
      "codemirror_mode": {
        "name": "ipython",
        "version": 3
      },
      "file_extension": ".py",
      "mimetype": "text/x-python",
      "name": "python",
      "nbconvert_exporter": "python",
      "pygments_lexer": "ipython3",
      "version": "3.6.8"
    }
  },
  "cells": [
    {
      "cell_type": "code",
      "source": [
        "from pyspark.sql import SparkSession, Row\n",
        "from pyspark.sql.functions import col, when, filter, count"
      ],
      "metadata": {
        "id": "YbzwrpHD-vOm"
      },
      "execution_count": 1,
      "outputs": []
    },
    {
      "cell_type": "code",
      "source": [
        "spark = SparkSession.builder.appName(\"MindBox_ex\").master(\"local[1]\") \\\n",
        "    .getOrCreate()\n"
      ],
      "metadata": {
        "id": "ROf2Mxww_ALK"
      },
      "execution_count": 2,
      "outputs": []
    },
    {
      "cell_type": "code",
      "source": [
        "products = spark.createDataFrame([\n",
        "    #Выпечка\n",
        "    Row(product_id=1, product_name=\"Батон белый\"),\n",
        "    Row(product_id=2, product_name=\"Ржаной цельнозерновой хлеб\"),\n",
        "    Row(product_id=3, product_name=\"Круассаны с миндалём\"),\n",
        "    Row(product_id=4, product_name=\"Домашний яблочный пирог\"),\n",
        "    Row(product_id=5, product_name=\"Багет французский\"),\n",
        "    Row(product_id=6, product_name=\"Маффины шоколадные\"),\n",
        "\n",
        "    #Молочка\n",
        "    Row(product_id=7, product_name=\"Молоко пастеризованное 3,2%\"),\n",
        "    Row(product_id=8, product_name=\"Кефир\"),\n",
        "    Row(product_id=9, product_name=\"Творог\"),\n",
        "    Row(product_id=10, product_name=\"Сметана\"),\n",
        "    Row(product_id=11, product_name=\"Ряженка\"),\n",
        "    Row(product_id=12, product_name=\"Моцарелла\"),\n",
        "    Row(product_id=13, product_name=\"Масло\"),\n",
        "\n",
        "    #Фрукты\n",
        "    Row(product_id=14, product_name=\"Яблоки\"),\n",
        "    Row(product_id=15, product_name=\"Бананы\"),\n",
        "    Row(product_id=16, product_name=\"Апельсины\"),\n",
        "    Row(product_id=17, product_name=\"Груши\"),\n",
        "    Row(product_id=18, product_name=\"Киви\"),\n",
        "    Row(product_id=19, product_name=\"Виноград\"),\n",
        "    Row(product_id=20, product_name=\"Персики\"),\n",
        "    Row(product_id=21, product_name=\"Мандарины\"),\n",
        "\n",
        "    #Овощи\n",
        "    Row(product_id=22, product_name=\"Картофель\"),\n",
        "    Row(product_id=23, product_name=\"Морковь\"),\n",
        "    Row(product_id=24, product_name=\"Помидоры\"),\n",
        "    Row(product_id=25, product_name=\"Огурцы\"),\n",
        "    Row(product_id=26, product_name=\"Капуста\"),\n",
        "    Row(product_id=27, product_name=\"Лук\"),\n",
        "    Row(product_id=28, product_name=\"Чеснок\"),\n",
        "    Row(product_id=29, product_name=\"Перец\"),\n",
        "    Row(product_id=30, product_name=\"Свекла\"),\n",
        "\n",
        "    #Заморозка\n",
        "    Row(product_id=31, product_name=\"Замороженные овощи\"),\n",
        "    Row(product_id=32, product_name=\"Замороженная кукуруза\"),\n",
        "    Row(product_id=33, product_name=\"Замороженные ягоды\"),\n",
        "    Row(product_id=34, product_name=\"Вареники с вишней\"),\n",
        "    Row(product_id=35, product_name=\"Замороженные оладьи картофельные\"),\n",
        "\n",
        "\n",
        "    #Крупы\n",
        "    Row(product_id=36, product_name=\"Рис\"),\n",
        "    Row(product_id=37, product_name=\"Гречка\"),\n",
        "    Row(product_id=38, product_name=\"Овсянка\"),\n",
        "    Row(product_id=39, product_name=\"Пшено\"),\n",
        "    Row(product_id=40, product_name=\"Перловка\"),\n",
        "    Row(product_id=41, product_name=\"Кукурузная крупа\"),\n",
        "    Row(product_id=42, product_name=\"Булгур\"),\n",
        "\n",
        "    # Товары БЕЗ КАТЕГОРИИ\n",
        "    Row(product_id=43, product_name=\"Кола\"),\n",
        "    Row(product_id=44, product_name=\"Консервы\"),\n",
        "    Row(product_id=45, product_name=\"Соевый соус\"),\n",
        "    Row(product_id=46, product_name=\"Шоколад\"),\n",
        "    Row(product_id=47, product_name=\"Мед\"),\n",
        "    Row(product_id=48, product_name=\"Сухие дрожжи\"),\n",
        "    Row(product_id=49, product_name=\"Кетчуп\"),\n",
        "    Row(product_id=50, product_name=\"Соль\"),\n",
        "    Row(product_id=51, product_name=\"Сахар\"),\n",
        "    Row(product_id=52, product_name=\"Подсолнечное масло\"),\n",
        "], schema='product_id int, product_name string')"
      ],
      "metadata": {
        "id": "aJ9FEz6V_Nfn"
      },
      "execution_count": 3,
      "outputs": []
    },
    {
      "cell_type": "code",
      "source": [
        "categories = spark.createDataFrame([\n",
        "    (1, \"Выпечка\"), (2, \"Выпечка\"), (3, \"Выпечка\"), (4, \"Выпечка\"), (5, \"Выпечка\"),\n",
        "    (6, \"Выпечка\"), (7, \"Молочка\"), (8, \"Молочка\"), (9, \"Молочка\"), (10, \"Молочка\"),\n",
        "    (11, \"Молочка\"), (12, \"Молочка\"), (13, \"Молочка\"), (14, \"Фрукты\"), (15, \"Фрукты\"),\n",
        "    (16, \"Фрукты\"), (17, \"Фрукты\"), (18, \"Фрукты\"), (19, \"Фрукты\"), (20, \"Фрукты\"),\n",
        "    (21, \"Фрукты\"), (22, \"Овощи\"), (23, \"Овощи\"), (24, \"Овощи\"), (25, \"Овощи\"),\n",
        "    (26, \"Овощи\"), (27, \"Овощи\"), (28, \"Овощи\"), (29, \"Овощи\"), (30, \"Овощи\"),\n",
        "    (31, \"Заморозка\"), (32, \"Заморозка\"), (33, \"Заморозка\"), (34, \"Заморозка\"), (35, \"Заморозка\"),\n",
        "    (36, \"Крупы\"), (37, \"Крупы\"), (38, \"Крупы\"), (39, \"Крупы\"), (40, \"Крупы\"),\n",
        "    (41, \"Крупы\"), (42, \"Крупы\"), (43, None), (44, None), (45, None),\n",
        "    (46, None), (47, None), (48, None), (49, None), (50, None),\n",
        "    (51, None), (52, None)], schema='product_id int, category_name string')"
      ],
      "metadata": {
        "id": "bZX5NwaC_Qup"
      },
      "execution_count": 4,
      "outputs": []
    },
    {
      "cell_type": "code",
      "source": [
        "print(\"Продукты\")\n",
        "products.show()\n",
        "products.printSchema()\n",
        "print(\"\\n Категории\")\n",
        "categories.show()\n",
        "categories.printSchema()"
      ],
      "metadata": {
        "id": "lSHzZ12n_VDN",
        "outputId": "d14fbebf-92b6-4528-b0a8-6d281c021e04",
        "colab": {
          "base_uri": "https://localhost:8080/"
        }
      },
      "execution_count": 5,
      "outputs": [
        {
          "output_type": "stream",
          "name": "stdout",
          "text": [
            "Продукты\n",
            "+----------+--------------------+\n",
            "|product_id|        product_name|\n",
            "+----------+--------------------+\n",
            "|         1|         Батон белый|\n",
            "|         2|Ржаной цельнозерн...|\n",
            "|         3|Круассаны с миндалём|\n",
            "|         4|Домашний яблочный...|\n",
            "|         5|   Багет французский|\n",
            "|         6|  Маффины шоколадные|\n",
            "|         7|Молоко пастеризов...|\n",
            "|         8|               Кефир|\n",
            "|         9|              Творог|\n",
            "|        10|             Сметана|\n",
            "|        11|             Ряженка|\n",
            "|        12|           Моцарелла|\n",
            "|        13|               Масло|\n",
            "|        14|              Яблоки|\n",
            "|        15|              Бананы|\n",
            "|        16|           Апельсины|\n",
            "|        17|               Груши|\n",
            "|        18|                Киви|\n",
            "|        19|            Виноград|\n",
            "|        20|             Персики|\n",
            "+----------+--------------------+\n",
            "only showing top 20 rows\n",
            "\n",
            "root\n",
            " |-- product_id: integer (nullable = true)\n",
            " |-- product_name: string (nullable = true)\n",
            "\n",
            "\n",
            " Категории\n",
            "+----------+-------------+\n",
            "|product_id|category_name|\n",
            "+----------+-------------+\n",
            "|         1|      Выпечка|\n",
            "|         2|      Выпечка|\n",
            "|         3|      Выпечка|\n",
            "|         4|      Выпечка|\n",
            "|         5|      Выпечка|\n",
            "|         6|      Выпечка|\n",
            "|         7|      Молочка|\n",
            "|         8|      Молочка|\n",
            "|         9|      Молочка|\n",
            "|        10|      Молочка|\n",
            "|        11|      Молочка|\n",
            "|        12|      Молочка|\n",
            "|        13|      Молочка|\n",
            "|        14|       Фрукты|\n",
            "|        15|       Фрукты|\n",
            "|        16|       Фрукты|\n",
            "|        17|       Фрукты|\n",
            "|        18|       Фрукты|\n",
            "|        19|       Фрукты|\n",
            "|        20|       Фрукты|\n",
            "+----------+-------------+\n",
            "only showing top 20 rows\n",
            "\n",
            "root\n",
            " |-- product_id: integer (nullable = true)\n",
            " |-- category_name: string (nullable = true)\n",
            "\n"
          ]
        }
      ]
    },
    {
      "cell_type": "code",
      "source": [
        "result_df=categories.join(products, products.product_id == categories.product_id, \"left\")\n",
        "print(result_df.show())"
      ],
      "metadata": {
        "id": "P_wC5k-H_kLd",
        "outputId": "49117e79-fd92-45a3-d488-a470a226196f",
        "colab": {
          "base_uri": "https://localhost:8080/"
        }
      },
      "execution_count": 11,
      "outputs": [
        {
          "output_type": "stream",
          "name": "stdout",
          "text": [
            "+----------+-------------+----------+--------------------+\n",
            "|product_id|category_name|product_id|        product_name|\n",
            "+----------+-------------+----------+--------------------+\n",
            "|         1|      Выпечка|         1|         Батон белый|\n",
            "|         2|      Выпечка|         2|Ржаной цельнозерн...|\n",
            "|         3|      Выпечка|         3|Круассаны с миндалём|\n",
            "|         4|      Выпечка|         4|Домашний яблочный...|\n",
            "|         5|      Выпечка|         5|   Багет французский|\n",
            "|         6|      Выпечка|         6|  Маффины шоколадные|\n",
            "|         7|      Молочка|         7|Молоко пастеризов...|\n",
            "|         8|      Молочка|         8|               Кефир|\n",
            "|         9|      Молочка|         9|              Творог|\n",
            "|        10|      Молочка|        10|             Сметана|\n",
            "|        11|      Молочка|        11|             Ряженка|\n",
            "|        12|      Молочка|        12|           Моцарелла|\n",
            "|        13|      Молочка|        13|               Масло|\n",
            "|        14|       Фрукты|        14|              Яблоки|\n",
            "|        15|       Фрукты|        15|              Бананы|\n",
            "|        16|       Фрукты|        16|           Апельсины|\n",
            "|        17|       Фрукты|        17|               Груши|\n",
            "|        18|       Фрукты|        18|                Киви|\n",
            "|        19|       Фрукты|        19|            Виноград|\n",
            "|        20|       Фрукты|        20|             Персики|\n",
            "+----------+-------------+----------+--------------------+\n",
            "only showing top 20 rows\n",
            "\n",
            "None\n"
          ]
        }
      ]
    },
    {
      "cell_type": "code",
      "source": [
        "filter_result=result_df.select(categories.category_name, products.product_name)\n",
        "print(filter_result.show(n=filter_result.count(),truncate=False))"
      ],
      "metadata": {
        "colab": {
          "base_uri": "https://localhost:8080/"
        },
        "id": "NQPif9SjAhlD",
        "outputId": "d402ee55-664f-4c99-bfb2-bdf2772a14f8"
      },
      "execution_count": 20,
      "outputs": [
        {
          "output_type": "stream",
          "name": "stdout",
          "text": [
            "+-------------+--------------------------------+\n",
            "|category_name|product_name                    |\n",
            "+-------------+--------------------------------+\n",
            "|Заморозка    |Замороженные овощи              |\n",
            "|Заморозка    |Вареники с вишней               |\n",
            "|Овощи        |Чеснок                          |\n",
            "|Овощи        |Капуста                         |\n",
            "|Овощи        |Лук                             |\n",
            "|NULL         |Консервы                        |\n",
            "|Молочка      |Моцарелла                       |\n",
            "|Овощи        |Картофель                       |\n",
            "|NULL         |Мед                             |\n",
            "|Выпечка      |Батон белый                     |\n",
            "|NULL         |Подсолнечное масло              |\n",
            "|Молочка      |Масло                           |\n",
            "|Выпечка      |Маффины шоколадные              |\n",
            "|Фрукты       |Апельсины                       |\n",
            "|Выпечка      |Круассаны с миндалём            |\n",
            "|Фрукты       |Персики                         |\n",
            "|Крупы        |Перловка                        |\n",
            "|NULL         |Сухие дрожжи                    |\n",
            "|Выпечка      |Багет французский               |\n",
            "|Фрукты       |Виноград                        |\n",
            "|Крупы        |Кукурузная крупа                |\n",
            "|Фрукты       |Бананы                          |\n",
            "|NULL         |Кола                            |\n",
            "|Крупы        |Гречка                          |\n",
            "|Молочка      |Творог                          |\n",
            "|Фрукты       |Груши                           |\n",
            "|Заморозка    |Замороженные оладьи картофельные|\n",
            "|Выпечка      |Домашний яблочный пирог         |\n",
            "|Молочка      |Кефир                           |\n",
            "|Овощи        |Морковь                         |\n",
            "|Крупы        |Пшено                           |\n",
            "|NULL         |Кетчуп                          |\n",
            "|Молочка      |Молоко пастеризованное 3,2%     |\n",
            "|NULL         |Сахар                           |\n",
            "|Молочка      |Сметана                         |\n",
            "|NULL         |Соль                            |\n",
            "|NULL         |Соевый соус                     |\n",
            "|Крупы        |Овсянка                         |\n",
            "|Овощи        |Огурцы                          |\n",
            "|Овощи        |Помидоры                        |\n",
            "|Овощи        |Перец                           |\n",
            "|Фрукты       |Мандарины                       |\n",
            "|Заморозка    |Замороженная кукуруза           |\n",
            "|Молочка      |Ряженка                         |\n",
            "|Заморозка    |Замороженные ягоды              |\n",
            "|Фрукты       |Яблоки                          |\n",
            "|Крупы        |Булгур                          |\n",
            "|Выпечка      |Ржаной цельнозерновой хлеб      |\n",
            "|Овощи        |Свекла                          |\n",
            "|NULL         |Шоколад                         |\n",
            "|Фрукты       |Киви                            |\n",
            "|Крупы        |Рис                             |\n",
            "+-------------+--------------------------------+\n",
            "\n",
            "None\n"
          ]
        }
      ]
    },
    {
      "cell_type": "code",
      "source": [
        "from os import truncate\n",
        "have_category = filter_result.filter(col('category_name').isNotNull())\n",
        "not_category= filter_result.filter(col('category_name').isNull()).select('product_name')\n",
        "have_category.show()\n",
        "not_category.show()"
      ],
      "metadata": {
        "id": "3UucFvXGA1yZ",
        "outputId": "313db983-8a00-43ac-dbfe-817000622892",
        "colab": {
          "base_uri": "https://localhost:8080/"
        }
      },
      "execution_count": 24,
      "outputs": [
        {
          "output_type": "stream",
          "name": "stdout",
          "text": [
            "+-------------+--------------------+\n",
            "|category_name|        product_name|\n",
            "+-------------+--------------------+\n",
            "|      Выпечка|         Батон белый|\n",
            "|      Выпечка|Ржаной цельнозерн...|\n",
            "|      Выпечка|Круассаны с миндалём|\n",
            "|      Выпечка|Домашний яблочный...|\n",
            "|      Выпечка|   Багет французский|\n",
            "|      Выпечка|  Маффины шоколадные|\n",
            "|      Молочка|Молоко пастеризов...|\n",
            "|      Молочка|               Кефир|\n",
            "|      Молочка|              Творог|\n",
            "|      Молочка|             Сметана|\n",
            "|      Молочка|             Ряженка|\n",
            "|      Молочка|           Моцарелла|\n",
            "|      Молочка|               Масло|\n",
            "|       Фрукты|              Яблоки|\n",
            "|       Фрукты|              Бананы|\n",
            "|       Фрукты|           Апельсины|\n",
            "|       Фрукты|               Груши|\n",
            "|       Фрукты|                Киви|\n",
            "|       Фрукты|            Виноград|\n",
            "|       Фрукты|             Персики|\n",
            "+-------------+--------------------+\n",
            "only showing top 20 rows\n",
            "\n",
            "+------------------+\n",
            "|      product_name|\n",
            "+------------------+\n",
            "|              Кола|\n",
            "|          Консервы|\n",
            "|       Соевый соус|\n",
            "|           Шоколад|\n",
            "|               Мед|\n",
            "|      Сухие дрожжи|\n",
            "|            Кетчуп|\n",
            "|              Соль|\n",
            "|             Сахар|\n",
            "|Подсолнечное масло|\n",
            "+------------------+\n",
            "\n"
          ]
        }
      ]
    },
    {
      "cell_type": "markdown",
      "source": [
        "Задание:\n",
        "\n",
        "В PySpark приложении датафреймами(pyspark.sql.DataFrame) заданы продукты, категории и их связи. Каждому продукту может соответствовать несколько категорий или ни одной. А каждой категории может соответствовать несколько продуктов или ни одного. Напишите метод на PySpark, который в одном датафрейме вернет все пары «Имя продукта – Имя категории» и имена всех продуктов, у которых нет категорий. Приведите пример работы вашего метода в Jupyter ноутбуке."
      ],
      "metadata": {
        "id": "MoWEAEkXD7Fs"
      }
    },
    {
      "cell_type": "code",
      "source": [
        "from pyspark.sql import DataFrame\n",
        "def product_dataframe(products: DataFrame, categories: DataFrame, product_category: DataFrame):\n",
        "    dataframe = products.join(product_category, \"product_id\", \"left\").join(categories, \"category_id\", \"left\")\\\n",
        "    .select(\"product_name\", \"category_name\")\n",
        "    return dataframe\n"
      ],
      "metadata": {
        "id": "My0Rl-QPEDte"
      },
      "execution_count": null,
      "outputs": []
    },
    {
      "cell_type": "markdown",
      "source": [],
      "metadata": {
        "id": "CJvOWKGvJFhT"
      }
    },
    {
      "cell_type": "code",
      "source": [
        "\n",
        "products = spark.createDataFrame([\n",
        "    Row(product_id=1, product_name=\"Смартфон\"),\n",
        "    Row(product_id=2, product_name=\"Ноутбук\"),\n",
        "    Row(product_id=3, product_name=\"Холодильник\"),\n",
        "    Row(product_id=4, product_name=\"Стиральная машина\"),\n",
        "    Row(product_id=5, product_name=\"Микроволновка\"),\n",
        "    Row(product_id=6, product_name=\"Телевизор\"),\n",
        "    Row(product_id=7, product_name=\"Игровая консоль\"),\n",
        "    Row(product_id=8, product_name=\"Кофемашина\"),\n",
        "    Row(product_id=9, product_name=\"Пылесос\"),\n",
        "    Row(product_id=10, product_name=\"Планшет\"),\n",
        "    Row(product_id=11, product_name=\"Принтер\"),\n",
        "    Row(product_id=12, product_name=\"Монитор\"),\n",
        "    Row(product_id=13, product_name=\"Умная колонка\"),\n",
        "    Row(product_id=14, product_name=\"Фен\"),\n",
        "    Row(product_id=15, product_name=\"Камера\"),\n",
        "], schema=\"product_id int, product_name string\")\n",
        "\n",
        "\n",
        "categories = spark.createDataFrame([\n",
        "    (1, \"Бытовая\"),\n",
        "    (2, \"Компьютерная\"),\n",
        "    (3, \"Мобильные\"),\n",
        "    (4, \"Развлечения\"),\n",
        "], schema=\"category_id int, category_name string\")\n",
        "\n",
        "\n",
        "product_category = spark.createDataFrame([\n",
        "    (1, 3), (1, 4),\n",
        "    (2, 2),\n",
        "    (3, 1),\n",
        "    (4, 1),\n",
        "    (5, 1),\n",
        "    (6, 4),\n",
        "    (7, 4),\n",
        "    (8, 1),\n",
        "    (9, 1),\n",
        "    (10, 2), (10, 3),\n",
        "    (11, 2),\n",
        "    (12, 2),\n",
        "    (13, 3), (13, 4),\n",
        "    (14, 1),\n",
        "], schema=\"product_id int, category_id int\")\n",
        "\n",
        "\n",
        "result = product_dataframe(products, categories, product_category)\n",
        "result.show(n = result.count(),truncate=False)"
      ],
      "metadata": {
        "id": "rFGqm3FAHjq4",
        "outputId": "a5d1be20-56e6-457a-ec62-489083d399e6",
        "colab": {
          "base_uri": "https://localhost:8080/"
        }
      },
      "execution_count": 29,
      "outputs": [
        {
          "output_type": "stream",
          "name": "stdout",
          "text": [
            "+-----------------+-------------+\n",
            "|product_name     |category_name|\n",
            "+-----------------+-------------+\n",
            "|Монитор          |Компьютерная |\n",
            "|Смартфон         |Развлечения  |\n",
            "|Смартфон         |Мобильные    |\n",
            "|Умная колонка    |Развлечения  |\n",
            "|Умная колонка    |Мобильные    |\n",
            "|Телевизор        |Развлечения  |\n",
            "|Холодильник      |Бытовая      |\n",
            "|Микроволновка    |Бытовая      |\n",
            "|Камера           |NULL         |\n",
            "|Пылесос          |Бытовая      |\n",
            "|Стиральная машина|Бытовая      |\n",
            "|Кофемашина       |Бытовая      |\n",
            "|Игровая консоль  |Развлечения  |\n",
            "|Планшет          |Мобильные    |\n",
            "|Планшет          |Компьютерная |\n",
            "|Принтер          |Компьютерная |\n",
            "|Фен              |Бытовая      |\n",
            "|Ноутбук          |Компьютерная |\n",
            "+-----------------+-------------+\n",
            "\n"
          ]
        }
      ]
    },
    {
      "cell_type": "code",
      "source": [
        "#Заменили null на - отсутствует категория , меняем значения только в колонке category_name\n",
        "result_clean = result.fillna(\"отсутствует категория\", subset=[\"category_name\"])\n",
        "result_clean.show(n=result.count(), truncate=False)"
      ],
      "metadata": {
        "id": "Sft-vCVvI6je",
        "outputId": "5fc9d2bc-8361-49a6-9afa-f5e67f566795",
        "colab": {
          "base_uri": "https://localhost:8080/"
        }
      },
      "execution_count": 30,
      "outputs": [
        {
          "output_type": "stream",
          "name": "stdout",
          "text": [
            "+-----------------+---------------------+\n",
            "|product_name     |category_name        |\n",
            "+-----------------+---------------------+\n",
            "|Монитор          |Компьютерная         |\n",
            "|Смартфон         |Развлечения          |\n",
            "|Смартфон         |Мобильные            |\n",
            "|Умная колонка    |Развлечения          |\n",
            "|Умная колонка    |Мобильные            |\n",
            "|Телевизор        |Развлечения          |\n",
            "|Холодильник      |Бытовая              |\n",
            "|Микроволновка    |Бытовая              |\n",
            "|Камера           |отсутствует категория|\n",
            "|Пылесос          |Бытовая              |\n",
            "|Стиральная машина|Бытовая              |\n",
            "|Кофемашина       |Бытовая              |\n",
            "|Игровая консоль  |Развлечения          |\n",
            "|Планшет          |Мобильные            |\n",
            "|Планшет          |Компьютерная         |\n",
            "|Принтер          |Компьютерная         |\n",
            "|Фен              |Бытовая              |\n",
            "|Ноутбук          |Компьютерная         |\n",
            "+-----------------+---------------------+\n",
            "\n"
          ]
        }
      ]
    },
    {
      "cell_type": "code",
      "source": [
        "animals = spark.createDataFrame([\n",
        "    Row(product_id=1, product_name=\"Барсук\"),\n",
        "    Row(product_id=2, product_name=\"Кот\"),\n",
        "    Row(product_id=3, product_name=\"Собака\"),\n",
        "    Row(product_id=4, product_name=\"Попугай\"),\n",
        "    Row(product_id=5, product_name=\"Черепаха\"),\n",
        "    Row(product_id=6, product_name=\"Кролик\"),\n",
        "    Row(product_id=7, product_name=\"Лиса\"),\n",
        "], schema='product_id int, product_name string')\n",
        "\n",
        "species = spark.createDataFrame([\n",
        "    Row(category_id=1, category_name=\"Хищник\"),\n",
        "    Row(category_id=2, category_name=\"Домашнее\"),\n",
        "    Row(category_id=3, category_name=\"Птица\"),\n",
        "    Row(category_id=4, category_name=\"Рептилия\"),\n",
        "    Row(category_id=5, category_name=\"Земноводное\"),\n",
        "    Row(category_id=6, category_name=\"Насекомое\"),\n",
        "], schema='category_id int, category_name string')\n",
        "\n",
        "animal_species = spark.createDataFrame([\n",
        "    Row(product_id=1, category_id=1),\n",
        "    Row(product_id=2, category_id=2),\n",
        "    Row(product_id=3, category_id=2),\n",
        "    Row(product_id=4, category_id=3),\n",
        "    Row(product_id=5, category_id=4),\n",
        "], schema='product_id int, category_id int')\n",
        "\n",
        "anumal = product_dataframe(animals, species, animal_species)\n",
        "filter_animal = anumal.fillna(\"Вид отсутствует\", subset=[\"category_name\"])\\\n",
        ".fillna(\"Представители  отсутствуют\", subset=[\"product_name\"])\n",
        "filter_animal.show(n = filter_animal.count(),truncate=False)\n",
        "filter_animal.printSchema()\n"
      ],
      "metadata": {
        "id": "Fd3idQYZI7j_",
        "outputId": "528be0a4-42a2-4c52-a7ed-e9a79def01ac",
        "colab": {
          "base_uri": "https://localhost:8080/"
        }
      },
      "execution_count": 32,
      "outputs": [
        {
          "output_type": "stream",
          "name": "stdout",
          "text": [
            "+------------+---------------+\n",
            "|product_name|category_name  |\n",
            "+------------+---------------+\n",
            "|Барсук      |Хищник         |\n",
            "|Кролик      |Вид отсутствует|\n",
            "|Собака      |Домашнее       |\n",
            "|Черепаха    |Рептилия       |\n",
            "|Попугай     |Птица          |\n",
            "|Лиса        |Вид отсутствует|\n",
            "|Кот         |Домашнее       |\n",
            "+------------+---------------+\n",
            "\n",
            "root\n",
            " |-- product_name: string (nullable = false)\n",
            " |-- category_name: string (nullable = false)\n",
            "\n"
          ]
        }
      ]
    }
  ]
}